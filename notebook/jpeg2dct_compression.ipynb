{
 "cells": [
  {
   "cell_type": "code",
   "execution_count": 2,
   "id": "981382c1",
   "metadata": {},
   "outputs": [
    {
     "name": "stdout",
     "output_type": "stream",
     "text": [
      "Looking in indexes: https://pypi.douban.com/simple/\n",
      "Collecting jpeg2dct\n",
      "  Downloading https://pypi.doubanio.com/packages/aa/13/59e7fe24432683922c193a47f74b841e178a00f3790b650cb2662fed0a59/jpeg2dct-0.2.4.tar.gz (106 kB)\n",
      "\u001b[K     |████████████████████████████████| 106 kB 860 kB/s eta 0:00:01\n",
      "\u001b[?25hRequirement already satisfied: numpy in /home/cjj/miniconda3/envs/real-time/lib/python3.8/site-packages (from jpeg2dct) (1.20.3)\n",
      "Building wheels for collected packages: jpeg2dct\n",
      "  Building wheel for jpeg2dct (setup.py) ... \u001b[?25ldone\n",
      "\u001b[?25h  Created wheel for jpeg2dct: filename=jpeg2dct-0.2.4-cp38-cp38-linux_x86_64.whl size=106573 sha256=ead00a8417907d6cc661bb0e231508daf7c1f57df0d1a11d00f9c95bfd2e5f47\n",
      "  Stored in directory: /home/cjj/.cache/pip/wheels/d9/e7/b0/04befc4ad16f1b39908f367d98cb2a8aebe2760533565b7389\n",
      "Successfully built jpeg2dct\n",
      "Installing collected packages: jpeg2dct\n",
      "Successfully installed jpeg2dct-0.2.4\n"
     ]
    }
   ],
   "source": [
    "!pip install jpeg2dct\n",
    "!wget \"https://all4desktop.com/data_images/original/4244878-lady-gaga.jpg\"\n",
    "from jpeg2dct.numpy import load, loads"
   ]
  },
  {
   "cell_type": "code",
   "execution_count": 10,
   "id": "089d1d39",
   "metadata": {},
   "outputs": [
    {
     "name": "stdout",
     "output_type": "stream",
     "text": [
      "Y component DCT shape (117, 117, 64) and type int16\n",
      "Cb component DCT shape (59, 59, 64) and type int16\n",
      "Cr component DCT shape (59, 59, 64) and type int16\n"
     ]
    }
   ],
   "source": [
    "# read from a file \n",
    "jpeg_file = './4244878-lady-gaga.jpg'\n",
    "dct_y, dct_cb, dct_cr = load(jpeg_file)\n",
    "print (\"Y component DCT shape {} and type {}\".format(dct_y.shape, dct_y.dtype))\n",
    "print (\"Cb component DCT shape {} and type {}\".format(dct_cb.shape, dct_cb.dtype))\n",
    "print (\"Cr component DCT shape {} and type {}\".format(dct_cr.shape, dct_cr.dtype))"
   ]
  },
  {
   "cell_type": "code",
   "execution_count": 11,
   "id": "1b6b2f41",
   "metadata": {},
   "outputs": [
    {
     "name": "stdout",
     "output_type": "stream",
     "text": [
      "Y component DCT shape (117, 117, 64) and type int16\n",
      "Cb component DCT shape (59, 59, 64) and type int16\n",
      "Cr component DCT shape (59, 59, 64) and type int16\n"
     ]
    }
   ],
   "source": [
    "#read from in memory buffer\n",
    "with open(jpeg_file, 'rb') as src:\n",
    "    buffer = src.read()\n",
    "dct_y, dct_cb, dct_cr = loads(buffer)\n",
    "print (\"Y component DCT shape {} and type {}\".format(dct_y.shape, dct_y.dtype))\n",
    "print (\"Cb component DCT shape {} and type {}\".format(dct_cb.shape, dct_cb.dtype))\n",
    "print (\"Cr component DCT shape {} and type {}\".format(dct_cr.shape, dct_cr.dtype))"
   ]
  }
 ],
 "metadata": {
  "kernelspec": {
   "display_name": "Python [conda env:real-time]",
   "language": "python",
   "name": "conda-env-real-time-py"
  },
  "language_info": {
   "codemirror_mode": {
    "name": "ipython",
    "version": 3
   },
   "file_extension": ".py",
   "mimetype": "text/x-python",
   "name": "python",
   "nbconvert_exporter": "python",
   "pygments_lexer": "ipython3",
   "version": "3.8.5"
  }
 },
 "nbformat": 4,
 "nbformat_minor": 5
}
